{
 "cells": [
  {
   "cell_type": "code",
   "execution_count": 2,
   "metadata": {},
   "outputs": [
    {
     "name": "stdout",
     "output_type": "stream",
     "text": [
      "Hello,i am chatty, and I chat alot\n",
      "you can alway reach me on 0711 xxxxx\n",
      "Goodbye\n"
     ]
    }
   ],
   "source": [
    "# chartbots- the chart simulates human conversation, its written\n",
    "# They allow human interact with computer as if its a person they are talking to\n",
    "# Natural language proccesing -Nlp\n",
    "# Bots must be given user inputs and how it will respond\n",
    "# python has a libray named nltk-natural language processing tool kit\n",
    "\n",
    "import nltk\n",
    "from nltk.chat.util import Chat\n",
    "from nltk.chat.util import reflections\n",
    "\n",
    "pairs= [\n",
    "    [\n",
    "        r\"hi|hello|hey\",\n",
    "        [\"Am doing well Can i help\", \"Great! Am fine\",\"Always doing good\"]\n",
    "    ],\n",
    "    [\n",
    "        r\"what is your name\",\n",
    "        [\"My name is chatty and i am a chat bot\",\"chatty is my name\"]\n",
    "    ],\n",
    "    [\n",
    "        r\"What is your age\",\n",
    "        [\"I am computer program,seriously are you asking me this\", \"Am programmed , I have no age\"]\n",
    "    ],\n",
    "    [\n",
    "        r\"quit\",\n",
    "        [\"Thank you for chatting with me\", \"Thanks, wish we chatted more\", \"Goodbye\"]\n",
    "    ],\n",
    "    [\n",
    "        r\"(.*)team\",\n",
    "        [\"I have no team\", \"still looking for one\"]\n",
    "    ],\n",
    "    [\n",
    "        r\"(.*)contact (.*)|(.*)contacts\",\n",
    "        [\"you can alway reach me on 0711 xxxxx\"]\n",
    "    ],\n",
    "    [\n",
    "        r\"(.*)services\",\n",
    "        [\"Thank you,we provide web development services\"]\n",
    "    ]\n",
    "\n",
    "    #more pairs-quiz  \n",
    "] # End pairs\n",
    "\n",
    "\n",
    "chat = Chat(pairs)\n",
    "print(\"Hello,i am chatty, and I chat alot\")\n",
    "chat.converse() #start conversation"
   ]
  }
 ],
 "metadata": {
  "interpreter": {
   "hash": "31f2aee4e71d21fbe5cf8b01ff0e069b9275f58929596ceb00d14d90e3e16cd6"
  },
  "kernelspec": {
   "display_name": "Python 3.6.8 64-bit",
   "language": "python",
   "name": "python3"
  },
  "language_info": {
   "codemirror_mode": {
    "name": "ipython",
    "version": 3
   },
   "file_extension": ".py",
   "mimetype": "text/x-python",
   "name": "python",
   "nbconvert_exporter": "python",
   "pygments_lexer": "ipython3",
   "version": "3.6.8"
  },
  "orig_nbformat": 4
 },
 "nbformat": 4,
 "nbformat_minor": 2
}
